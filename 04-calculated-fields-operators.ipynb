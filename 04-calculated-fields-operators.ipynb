{
 "cells": [
  {
   "cell_type": "markdown",
   "id": "lightweight-fruit",
   "metadata": {
    "slideshow": {
     "slide_type": "slide"
    }
   },
   "source": [
    "# 以 SQLite 入門 SQL\n",
    "\n",
    "> 衍生計算欄位：運算符\n",
    "\n",
    "[數聚點](https://www.datainpoint.com) | 郭耀仁 <yaojenkuo@ntu.edu.tw>"
   ]
  },
  {
   "cell_type": "markdown",
   "id": "supposed-spread",
   "metadata": {
    "slideshow": {
     "slide_type": "slide"
    }
   },
   "source": [
    "## 衍生計算欄位的生成\n",
    "\n",
    "- **運算符**。\n",
    "- 函數。\n",
    "- 條件邏輯。"
   ]
  },
  {
   "cell_type": "markdown",
   "id": "b86b8538",
   "metadata": {
    "slideshow": {
     "slide_type": "slide"
    }
   },
   "source": [
    "## 單獨存在的 `SELECT`"
   ]
  },
  {
   "cell_type": "markdown",
   "id": "threaded-police",
   "metadata": {
    "slideshow": {
     "slide_type": "subslide"
    }
   },
   "source": [
    "## 在沒有 `FROM` 的情況下，`SELECT` 也能夠單獨存在於一段 SQL 之中\n",
    "\n",
    "```sql\n",
    "SELECT 'Hello database!' AS hello_db; -- 單獨存在的 SELECT\n",
    "```"
   ]
  },
  {
   "cell_type": "markdown",
   "id": "shaped-reconstruction",
   "metadata": {
    "slideshow": {
     "slide_type": "subslide"
    }
   },
   "source": [
    "## 在 `SELECT` 後面除了指定資料表的欄位，也能夠擺放常數，常見的常數類型有：\n",
    "\n",
    "- 整數（integer）。\n",
    "- 帶小數點的浮點數（real）。\n",
    "- 用單引號標記的文字（text）。\n",
    "- 空值、遺漏值（null）。"
   ]
  },
  {
   "cell_type": "markdown",
   "id": "opposite-efficiency",
   "metadata": {
    "slideshow": {
     "slide_type": "subslide"
    }
   },
   "source": [
    "## 我們使用單獨存在的 `SELECT` 將常見的常數類型顯示出來\n",
    "\n",
    "```sql\n",
    "SELECT 5566 AS an_integer,\n",
    "       5566.0 AS a_real,\n",
    "       'Hello database!' AS a_text,\n",
    "       NULL AS a_null;\n",
    "```"
   ]
  },
  {
   "cell_type": "markdown",
   "id": "dense-florida",
   "metadata": {
    "slideshow": {
     "slide_type": "subslide"
    }
   },
   "source": [
    "## 使用 `TYPEOF()` 函數檢視常數類型\n",
    "\n",
    "```sql\n",
    "SELECT TYPEOF(5566) AS an_integer_type,\n",
    "       TYPEOF(5566.0) AS a_real_type,\n",
    "       TYPEOF('Hello database!') AS a_text_type,\n",
    "       TYPEOF(NULL) AS a_null_type;\n",
    "```"
   ]
  },
  {
   "cell_type": "markdown",
   "id": "studied-preference",
   "metadata": {
    "slideshow": {
     "slide_type": "slide"
    }
   },
   "source": [
    "## 數值運算符"
   ]
  },
  {
   "cell_type": "markdown",
   "id": "cleared-chance",
   "metadata": {
    "slideshow": {
     "slide_type": "subslide"
    }
   },
   "source": [
    "## 針對整數（integer）與帶小數點的浮點數（real）可以使用數值運算符衍生計算欄位"
   ]
  },
  {
   "cell_type": "markdown",
   "id": "minus-calgary",
   "metadata": {
    "slideshow": {
     "slide_type": "subslide"
    }
   },
   "source": [
    "## 基礎數值運算符\n",
    "\n",
    "- `+`：相加。\n",
    "- `-`：相減。\n",
    "- `*`：相乘。\n",
    "- `/`：相除。\n",
    "- `%`：計算餘數。\n",
    "- `()`：優先運算。"
   ]
  },
  {
   "cell_type": "markdown",
   "id": "ordered-testing",
   "metadata": {
    "slideshow": {
     "slide_type": "subslide"
    }
   },
   "source": [
    "## 運用數值運算符衍生以小時為單位的電影片長\n",
    "\n",
    "```sql\n",
    "SELECT runtime,\n",
    "       runtime / 60 AS runtime_hour\n",
    "  FROM movies\n",
    " LIMIT 5;\n",
    "```"
   ]
  },
  {
   "cell_type": "markdown",
   "id": "surprising-electronics",
   "metadata": {
    "slideshow": {
     "slide_type": "subslide"
    }
   },
   "source": [
    "## 在使用 `/` 相除兩個整數的時候要特別注意所衍生的欄位依然會以整數類型存在\n",
    "\n",
    "```sql\n",
    "SELECT TYPEOF(runtime) AS typeof_runtime,\n",
    "       runtime / 60 AS runtime_hour\n",
    "  FROM movies\n",
    " LIMIT 5;\n",
    "```"
   ]
  },
  {
   "cell_type": "markdown",
   "id": "anticipated-vehicle",
   "metadata": {
    "slideshow": {
     "slide_type": "subslide"
    }
   },
   "source": [
    "## 若希望衍生欄位是浮點數類型，要為分子或者分母加上小數點\n",
    "\n",
    "```sql\n",
    "SELECT runtime*1.0 / 60 AS runtime_hour_1,\n",
    "       runtime / 60.0 AS runtime_hour_2,\n",
    "       runtime*1.0 / 60.0 AS runtime_hour_3\n",
    "  FROM movies\n",
    " LIMIT 5;\n",
    "```"
   ]
  },
  {
   "cell_type": "markdown",
   "id": "bigger-berry",
   "metadata": {
    "slideshow": {
     "slide_type": "slide"
    }
   },
   "source": [
    "##  文字運算符"
   ]
  },
  {
   "cell_type": "markdown",
   "id": "concrete-agenda",
   "metadata": {
    "slideshow": {
     "slide_type": "subslide"
    }
   },
   "source": [
    "## 基礎文字運算符\n",
    "\n",
    "`||`：兩個垂直線（可透過 `Shift + \\` 按出來）能夠連接文字。 \n",
    "\n",
    "```sql\n",
    "SELECT runtime / 60 AS runtime_hours,\n",
    "       runtime % 60 AS runtime_minutes,\n",
    "\t   (runtime / 60) || ' hours ' || (runtime % 60) || ' minutes' AS runtime_hour_min\n",
    "  FROM movies;\n",
    "```"
   ]
  },
  {
   "cell_type": "markdown",
   "id": "employed-thousand",
   "metadata": {
    "slideshow": {
     "slide_type": "subslide"
    }
   },
   "source": [
    "```sql\n",
    "/*\n",
    "截至目前學起來的 SQL 有哪些？\n",
    "SQL 寫作順序必須遵從標準 SQL 的規定。\n",
    "*/\n",
    "SELECT column_names  -- 選擇哪些欄位\n",
    "  FROM table_name    -- 從哪個資料庫的資料表\n",
    " LIMIT m;            -- 查詢結果顯示 m 列就好\n",
    "OFFSET k;            -- 查詢結果略過 k 列\n",
    "```"
   ]
  }
 ],
 "metadata": {
  "celltoolbar": "Slideshow",
  "kernelspec": {
   "display_name": "Python 3 (ipykernel)",
   "language": "python",
   "name": "python3"
  },
  "language_info": {
   "codemirror_mode": {
    "name": "ipython",
    "version": 3
   },
   "file_extension": ".py",
   "mimetype": "text/x-python",
   "name": "python",
   "nbconvert_exporter": "python",
   "pygments_lexer": "ipython3",
   "version": "3.12.4"
  }
 },
 "nbformat": 4,
 "nbformat_minor": 5
}
