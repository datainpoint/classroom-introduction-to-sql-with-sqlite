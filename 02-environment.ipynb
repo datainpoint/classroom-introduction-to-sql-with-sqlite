{
 "cells": [
  {
   "cell_type": "markdown",
   "metadata": {
    "slideshow": {
     "slide_type": "slide"
    }
   },
   "source": [
    "# 以 SQLite 入門 SQL\n",
    "\n",
    "> 建立學習環境\n",
    "\n",
    "[數聚點](https://www.datainpoint.com) | 郭耀仁 <yaojenkuo@ntu.edu.tw>"
   ]
  },
  {
   "cell_type": "markdown",
   "metadata": {
    "slideshow": {
     "slide_type": "slide"
    }
   },
   "source": [
    "## 下載學習資料庫"
   ]
  },
  {
   "cell_type": "markdown",
   "metadata": {
    "slideshow": {
     "slide_type": "subslide"
    }
   },
   "source": [
    "## 學習資料庫 `imdb` 的 `.db` 檔案\n",
    "\n",
    "- <https://classroom-introduction-to-sql-with-sqlite.s3.ap-northeast-1.amazonaws.com/imdb.db>\n",
    "- 將學習資料庫檔案下載到熟悉的電腦路徑。"
   ]
  },
  {
   "cell_type": "markdown",
   "metadata": {
    "slideshow": {
     "slide_type": "slide"
    }
   },
   "source": [
    "## 下載與安裝 SQLiteStudio"
   ]
  },
  {
   "cell_type": "markdown",
   "metadata": {
    "slideshow": {
     "slide_type": "subslide"
    }
   },
   "source": [
    "## SQLiteStudio 是能夠連結學習資料庫與撰寫 SQL 的圖形化介面軟體\n",
    "\n",
    "在 Windows 作業系統/macOS 下載與安裝 SQLiteStudio：<https://github.com/pawelsalawa/sqlitestudio/releases>"
   ]
  },
  {
   "cell_type": "markdown",
   "metadata": {
    "slideshow": {
     "slide_type": "subslide"
    }
   },
   "source": [
    "## macOS 安裝時要額外開放權限\n",
    "\n",
    "系統偏好 -> 安全與隱私 -> 額外開放 macOS 安裝 SQLiteStudio"
   ]
  },
  {
   "cell_type": "markdown",
   "metadata": {
    "slideshow": {
     "slide_type": "slide"
    }
   },
   "source": [
    "## 確認學習環境能妥善運行"
   ]
  },
  {
   "cell_type": "markdown",
   "metadata": {
    "slideshow": {
     "slide_type": "subslide"
    }
   },
   "source": [
    "## 在主選單點選 Add a database\n",
    "\n",
    "![](001.png)"
   ]
  },
  {
   "cell_type": "markdown",
   "metadata": {
    "slideshow": {
     "slide_type": "subslide"
    }
   },
   "source": [
    "## 指定資料庫路徑\n",
    "\n",
    "![](002.png)"
   ]
  },
  {
   "cell_type": "markdown",
   "metadata": {
    "slideshow": {
     "slide_type": "subslide"
    }
   },
   "source": [
    "## 再點選 Connect to the database\n",
    "\n",
    "![](003.png)"
   ]
  },
  {
   "cell_type": "markdown",
   "metadata": {
    "slideshow": {
     "slide_type": "subslide"
    }
   },
   "source": [
    "## 哈囉資料庫\n",
    "\n",
    "在主選單點選 Open SQL editor\n",
    "\n",
    "![](004.png)"
   ]
  },
  {
   "cell_type": "markdown",
   "metadata": {
    "slideshow": {
     "slide_type": "subslide"
    }
   },
   "source": [
    "## 在右側編輯區輸入下列敘述，點選 Execute query\n",
    "\n",
    "```sql\n",
    "SELECT *\n",
    "  FROM movies\n",
    " LIMIT 5;\n",
    "```"
   ]
  },
  {
   "cell_type": "markdown",
   "metadata": {
    "slideshow": {
     "slide_type": "slide"
    }
   },
   "source": [
    "## 學習資料庫一覽"
   ]
  },
  {
   "cell_type": "markdown",
   "metadata": {
    "slideshow": {
     "slide_type": "subslide"
    }
   },
   "source": [
    "## 學習資料庫的資料來源\n",
    "\n",
    "- 源自 [IMDb.com](https://www.imdb.com) 最高評等的 250 部電影：[IMDb Top 250 Movies](https://www.imdb.com/chart/top)\n",
    "- 資料期間為 2024 年 5 月。"
   ]
  },
  {
   "cell_type": "markdown",
   "metadata": {
    "slideshow": {
     "slide_type": "subslide"
    }
   },
   "source": [
    "## actors\n",
    "\n",
    "```sql\n",
    "SELECT *\n",
    "  FROM actors\n",
    " LIMIT 5;\n",
    "```"
   ]
  },
  {
   "cell_type": "markdown",
   "metadata": {
    "slideshow": {
     "slide_type": "subslide"
    }
   },
   "source": [
    "## directors\n",
    "\n",
    "```sql\n",
    "SELECT *\n",
    "  FROM directors\n",
    " LIMIT 5;\n",
    "```"
   ]
  },
  {
   "cell_type": "markdown",
   "metadata": {
    "slideshow": {
     "slide_type": "subslide"
    }
   },
   "source": [
    "## movies\n",
    "\n",
    "```sql\n",
    "SELECT *\n",
    "  FROM movies\n",
    " LIMIT 5;\n",
    "```"
   ]
  },
  {
   "cell_type": "markdown",
   "metadata": {
    "slideshow": {
     "slide_type": "subslide"
    }
   },
   "source": [
    "## movies_actors\n",
    "\n",
    "```sql\n",
    "SELECT *\n",
    "  FROM movies_actors\n",
    " LIMIT 5;\n",
    "```"
   ]
  },
  {
   "cell_type": "markdown",
   "metadata": {
    "slideshow": {
     "slide_type": "subslide"
    }
   },
   "source": [
    "## movies_directors\n",
    "\n",
    "```sql\n",
    "SELECT *\n",
    "  FROM movies_directors\n",
    " LIMIT 5;\n",
    "```"
   ]
  },
  {
   "cell_type": "markdown",
   "metadata": {
    "slideshow": {
     "slide_type": "subslide"
    }
   },
   "source": [
    "## parent_guides\n",
    "\n",
    "```sql\n",
    "SELECT *\n",
    "  FROM parent_guides;\n",
    "```"
   ]
  },
  {
   "cell_type": "markdown",
   "metadata": {
    "slideshow": {
     "slide_type": "subslide"
    }
   },
   "source": [
    "## release_info\n",
    "\n",
    "```sql\n",
    "SELECT *\n",
    "  FROM release_info\n",
    " LIMIT 5;\n",
    "```"
   ]
  }
 ],
 "metadata": {
  "celltoolbar": "Slideshow",
  "kernelspec": {
   "display_name": "Python 3",
   "language": "python",
   "name": "python3"
  },
  "language_info": {
   "codemirror_mode": {
    "name": "ipython",
    "version": 3
   },
   "file_extension": ".py",
   "mimetype": "text/x-python",
   "name": "python",
   "nbconvert_exporter": "python",
   "pygments_lexer": "ipython3",
   "version": "3.6.8"
  }
 },
 "nbformat": 4,
 "nbformat_minor": 5
}
